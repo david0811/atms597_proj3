{
 "cells": [
  {
   "cell_type": "markdown",
   "metadata": {},
   "source": [
    "# Grabbing the precip files from GPCP"
   ]
  },
  {
   "cell_type": "code",
   "execution_count": 1,
   "metadata": {},
   "outputs": [],
   "source": [
    "import xarray as xr\n",
    "from PrecipData import getPrecip"
   ]
  },
  {
   "cell_type": "code",
   "execution_count": null,
   "metadata": {},
   "outputs": [],
   "source": [
    "precip = getPrecip(2000,2000)"
   ]
  },
  {
   "cell_type": "code",
   "execution_count": 11,
   "metadata": {},
   "outputs": [
    {
     "data": {
      "text/html": [
       "<pre>&lt;xarray.Dataset&gt;\n",
       "Dimensions:      (latitude: 180, longitude: 360, nv: 2, time: 1096)\n",
       "Coordinates:\n",
       "  * latitude     (latitude) float32 -90.0 -89.0 -88.0 -87.0 ... 87.0 88.0 89.0\n",
       "  * longitude    (longitude) float32 0.0 1.0 2.0 3.0 ... 356.0 357.0 358.0 359.0\n",
       "  * time         (time) object 2000-01-01 00:00:00 ... 2000-01-01 00:00:00\n",
       "Dimensions without coordinates: nv\n",
       "Data variables:\n",
       "    lat_bounds   (time, latitude, nv) float32 -90.0 -89.0 -89.0 ... 89.0 90.0\n",
       "    lon_bounds   (time, longitude, nv) float32 0.0 1.0 1.0 ... 359.0 359.0 360.0\n",
       "    time_bounds  (time, nv) object 2000-01-01 00:00:00 ... 2000-01-02 00:00:00\n",
       "    precip       (time, latitude, longitude) float32 0.0685829 ... 2.5404048\n",
       "Attributes:\n",
       "    Conventions:                CF-1.6, ACDD 1.3\n",
       "    title:                      Global Precipitation Climatatology Project (G...\n",
       "    source:                     /data1/GPCP_CDR/GPCP_Output/1DD//bin/200001/s...\n",
       "    references:                 Huffman et al. 1997, http://dx.doi.org/10.117...\n",
       "    history:                    1) 2017-05-30T16:57:24Z, Dr. Jian-Jian Wang, ...\n",
       "    Metadata_Conventions:       CF-1.6, Unidata Dataset Discovery v1.0, NOAA ...\n",
       "    standard_name_vocabulary:   CF Standard Name Table (v41, 22 February 2017)\n",
       "    id:                         200001/gpcp_v01r03_daily_d20000101_c20170530.nc\n",
       "    naming_authority:           gov.noaa.ncdc\n",
       "    date_created:               2017-05-30T16:57:24Z\n",
       "    license:                    No constraints on data access or use.\n",
       "    summary:                    Global Precipitation Climatology Project (GPC...\n",
       "    keywords:                   EARTH SCIENCE &gt; ATMOSPHERE &gt; PRECIPITATION &gt; ...\n",
       "    keywords_vocabulary:        NASA Global Change Master Directory (GCMD) Ea...\n",
       "    cdm_data_type:              Grid\n",
       "    project:                    GPCP &gt; Global Precipitation Climatology Project\n",
       "    processing_level:           NASA Level 3\n",
       "    creator_name:               Dr. Jian-Jian Wang\n",
       "    creator_email:              jjwang@umd.edu\n",
       "    institution:                ACADEMIC &gt; UMD/ESSIC &gt; Earth System Science I...\n",
       "    publisher_name:             NOAA National Centers for Environmental Infor...\n",
       "    publisher_email:            jjwang@umd.edu\n",
       "    publisher_url:              https://www.ncei.noaa.gov\n",
       "    geospatial_lat_min:         -90.0\n",
       "    geospatial_lat_max:         90.0\n",
       "    geospatial_lat_units:       degrees_north\n",
       "    geospatial_lat_resolution:  1 degree\n",
       "    geospatial_lon_min:         0.0\n",
       "    geospatial_lon_max:         360.0\n",
       "    geospatial_lon_units:       degrees_east\n",
       "    geospatial_lon_resolution:  1 degree\n",
       "    time_coverage_start:        2000-01-01T00:00:00Z\n",
       "    time_coverage_end:          2000-01-01T23:59:59Z\n",
       "    time_coverage_duration:     P1D\n",
       "    contributor_name:           Robert Adler, Jian-Jian Wang\n",
       "    contributor_role:           principalInvestigator, processor and custodian\n",
       "    acknowledgment:             This project was supported in part by a grant...\n",
       "    cdr_program:                NOAA Climate Data Record Program for satellit...\n",
       "    cdr_variable:               precipitation\n",
       "    metadata_link:              gov.noaa.ncdc:XXXXX\n",
       "    product_version:            v01r03\n",
       "    platform:                   GOES (Geostationary Operational Environmental...\n",
       "    sensor:                     Imager, TOVS &gt; TIROS Operational Vertical Sou...\n",
       "    spatial_resolution:         1 degree\n",
       "    comment:                    Processing computer: eagle2.umd.edu</pre>"
      ],
      "text/plain": [
       "<xarray.Dataset>\n",
       "Dimensions:      (latitude: 180, longitude: 360, nv: 2, time: 1096)\n",
       "Coordinates:\n",
       "  * latitude     (latitude) float32 -90.0 -89.0 -88.0 -87.0 ... 87.0 88.0 89.0\n",
       "  * longitude    (longitude) float32 0.0 1.0 2.0 3.0 ... 356.0 357.0 358.0 359.0\n",
       "  * time         (time) object 2000-01-01 00:00:00 ... 2000-01-01 00:00:00\n",
       "Dimensions without coordinates: nv\n",
       "Data variables:\n",
       "    lat_bounds   (time, latitude, nv) float32 -90.0 -89.0 -89.0 ... 89.0 90.0\n",
       "    lon_bounds   (time, longitude, nv) float32 0.0 1.0 1.0 ... 359.0 359.0 360.0\n",
       "    time_bounds  (time, nv) object 2000-01-01 00:00:00 ... 2000-01-02 00:00:00\n",
       "    precip       (time, latitude, longitude) float32 0.0685829 ... 2.5404048\n",
       "Attributes:\n",
       "    Conventions:                CF-1.6, ACDD 1.3\n",
       "    title:                      Global Precipitation Climatatology Project (G...\n",
       "    source:                     /data1/GPCP_CDR/GPCP_Output/1DD//bin/200001/s...\n",
       "    references:                 Huffman et al. 1997, http://dx.doi.org/10.117...\n",
       "    history:                    1) 2017-05-30T16:57:24Z, Dr. Jian-Jian Wang, ...\n",
       "    Metadata_Conventions:       CF-1.6, Unidata Dataset Discovery v1.0, NOAA ...\n",
       "    standard_name_vocabulary:   CF Standard Name Table (v41, 22 February 2017)\n",
       "    id:                         200001/gpcp_v01r03_daily_d20000101_c20170530.nc\n",
       "    naming_authority:           gov.noaa.ncdc\n",
       "    date_created:               2017-05-30T16:57:24Z\n",
       "    license:                    No constraints on data access or use.\n",
       "    summary:                    Global Precipitation Climatology Project (GPC...\n",
       "    keywords:                   EARTH SCIENCE > ATMOSPHERE > PRECIPITATION > ...\n",
       "    keywords_vocabulary:        NASA Global Change Master Directory (GCMD) Ea...\n",
       "    cdm_data_type:              Grid\n",
       "    project:                    GPCP > Global Precipitation Climatology Project\n",
       "    processing_level:           NASA Level 3\n",
       "    creator_name:               Dr. Jian-Jian Wang\n",
       "    creator_email:              jjwang@umd.edu\n",
       "    institution:                ACADEMIC > UMD/ESSIC > Earth System Science I...\n",
       "    publisher_name:             NOAA National Centers for Environmental Infor...\n",
       "    publisher_email:            jjwang@umd.edu\n",
       "    publisher_url:              https://www.ncei.noaa.gov\n",
       "    geospatial_lat_min:         -90.0\n",
       "    geospatial_lat_max:         90.0\n",
       "    geospatial_lat_units:       degrees_north\n",
       "    geospatial_lat_resolution:  1 degree\n",
       "    geospatial_lon_min:         0.0\n",
       "    geospatial_lon_max:         360.0\n",
       "    geospatial_lon_units:       degrees_east\n",
       "    geospatial_lon_resolution:  1 degree\n",
       "    time_coverage_start:        2000-01-01T00:00:00Z\n",
       "    time_coverage_end:          2000-01-01T23:59:59Z\n",
       "    time_coverage_duration:     P1D\n",
       "    contributor_name:           Robert Adler, Jian-Jian Wang\n",
       "    contributor_role:           principalInvestigator, processor and custodian\n",
       "    acknowledgment:             This project was supported in part by a grant...\n",
       "    cdr_program:                NOAA Climate Data Record Program for satellit...\n",
       "    cdr_variable:               precipitation\n",
       "    metadata_link:              gov.noaa.ncdc:XXXXX\n",
       "    product_version:            v01r03\n",
       "    platform:                   GOES (Geostationary Operational Environmental...\n",
       "    sensor:                     Imager, TOVS > TIROS Operational Vertical Sou...\n",
       "    spatial_resolution:         1 degree\n",
       "    comment:                    Processing computer: eagle2.umd.edu"
      ]
     },
     "execution_count": 11,
     "metadata": {},
     "output_type": "execute_result"
    }
   ],
   "source": [
    "precip"
   ]
  },
  {
   "cell_type": "code",
   "execution_count": null,
   "metadata": {},
   "outputs": [],
   "source": []
  }
 ],
 "metadata": {
  "kernelspec": {
   "display_name": "Python 3",
   "language": "python",
   "name": "python3"
  },
  "language_info": {
   "codemirror_mode": {
    "name": "ipython",
    "version": 3
   },
   "file_extension": ".py",
   "mimetype": "text/x-python",
   "name": "python",
   "nbconvert_exporter": "python",
   "pygments_lexer": "ipython3",
   "version": "3.7.6"
  }
 },
 "nbformat": 4,
 "nbformat_minor": 4
}
