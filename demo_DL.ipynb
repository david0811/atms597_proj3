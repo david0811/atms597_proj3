{
 "cells": [
  {
   "cell_type": "markdown",
   "metadata": {},
   "source": [
    "## Grabbing the precip files from GPCP NOAA servers"
   ]
  },
  {
   "cell_type": "code",
   "execution_count": 2,
   "metadata": {},
   "outputs": [],
   "source": [
    "import xarray as xr\n",
    "from PrecipData import getPrecip\n",
    "\n",
    "import numpy as np\n",
    "import matplotlib.pyplot as plt\n",
    "import seaborn as sns\n",
    "\n",
    "sns.set_style(\"darkgrid\", {\"axes.facecolor\": \".9\"})\n",
    "plt.rcParams.update({'font.size': 22})\n",
    "plt.rcParams.update({'font.family' : 'sans-serif'})\n",
    "plt.rcParams.update({'font.sans-serif' : 'DejaVu Sans'})"
   ]
  },
  {
   "cell_type": "code",
   "execution_count": 2,
   "metadata": {},
   "outputs": [
    {
     "data": {
      "text/plain": [
       "'Gathering data for 2000'"
      ]
     },
     "metadata": {},
     "output_type": "display_data"
    }
   ],
   "source": [
    "# # This takes a very long time!\n",
    "# precip = getPrecip(1997,2019)\n",
    "# precip.to_netcdf(\"GPCP_1997-2019_global.nc\")"
   ]
  },
  {
   "cell_type": "code",
   "execution_count": 3,
   "metadata": {},
   "outputs": [],
   "source": [
    "# Read in pre-downloaded data\n",
    "precip = xr.open_dataset(\"GPCP_1997-2019_global.nc\")"
   ]
  },
  {
   "cell_type": "code",
   "execution_count": 13,
   "metadata": {},
   "outputs": [
    {
     "data": {
      "text/html": [
       "<pre>&lt;xarray.Dataset&gt;\n",
       "Dimensions:      (latitude: 180, longitude: 360, nv: 2, time: 2117)\n",
       "Coordinates:\n",
       "  * latitude     (latitude) float32 -90.0 -89.0 -88.0 -87.0 ... 87.0 88.0 89.0\n",
       "  * longitude    (longitude) float32 0.0 1.0 2.0 3.0 ... 356.0 357.0 358.0 359.0\n",
       "  * time         (time) datetime64[ns] 1997-06-01 1997-06-02 ... 2019-08-31\n",
       "Dimensions without coordinates: nv\n",
       "Data variables:\n",
       "    lat_bounds   (time, latitude, nv) float32 ...\n",
       "    lon_bounds   (time, longitude, nv) float32 ...\n",
       "    time_bounds  (time, nv) object ...\n",
       "    precip       (time, latitude, longitude) float32 0.17455836 ... 2.0801144\n",
       "Attributes:\n",
       "    Conventions:                CF-1.6, ACDD 1.3\n",
       "    title:                      Global Precipitation Climatatology Project (G...\n",
       "    source:                     /data1/GPCP_CDR/GPCP_Output/1DD//bin/199706/s...\n",
       "    references:                 Huffman et al. 1997, http://dx.doi.org/10.117...\n",
       "    history:                    1) 2017-05-30T16:53:23Z, Dr. Jian-Jian Wang, ...\n",
       "    Metadata_Conventions:       CF-1.6, Unidata Dataset Discovery v1.0, NOAA ...\n",
       "    standard_name_vocabulary:   CF Standard Name Table (v41, 22 February 2017)\n",
       "    id:                         199706/gpcp_v01r03_daily_d19970601_c20170530.nc\n",
       "    naming_authority:           gov.noaa.ncdc\n",
       "    date_created:               2017-05-30T16:53:23Z\n",
       "    license:                    No constraints on data access or use.\n",
       "    summary:                    Global Precipitation Climatology Project (GPC...\n",
       "    keywords:                   EARTH SCIENCE &gt; ATMOSPHERE &gt; PRECIPITATION &gt; ...\n",
       "    keywords_vocabulary:        NASA Global Change Master Directory (GCMD) Ea...\n",
       "    cdm_data_type:              Grid\n",
       "    project:                    GPCP &gt; Global Precipitation Climatology Project\n",
       "    processing_level:           NASA Level 3\n",
       "    creator_name:               Dr. Jian-Jian Wang\n",
       "    creator_email:              jjwang@umd.edu\n",
       "    institution:                ACADEMIC &gt; UMD/ESSIC &gt; Earth System Science I...\n",
       "    publisher_name:             NOAA National Centers for Environmental Infor...\n",
       "    publisher_email:            jjwang@umd.edu\n",
       "    publisher_url:              https://www.ncei.noaa.gov\n",
       "    geospatial_lat_min:         -90.0\n",
       "    geospatial_lat_max:         90.0\n",
       "    geospatial_lat_units:       degrees_north\n",
       "    geospatial_lat_resolution:  1 degree\n",
       "    geospatial_lon_min:         0.0\n",
       "    geospatial_lon_max:         360.0\n",
       "    geospatial_lon_units:       degrees_east\n",
       "    geospatial_lon_resolution:  1 degree\n",
       "    time_coverage_start:        1997-06-01T00:00:00Z\n",
       "    time_coverage_end:          1997-06-01T23:59:59Z\n",
       "    time_coverage_duration:     P1D\n",
       "    contributor_name:           Robert Adler, Jian-Jian Wang\n",
       "    contributor_role:           principalInvestigator, processor and custodian\n",
       "    acknowledgment:             This project was supported in part by a grant...\n",
       "    cdr_program:                NOAA Climate Data Record Program for satellit...\n",
       "    cdr_variable:               precipitation\n",
       "    metadata_link:              gov.noaa.ncdc:XXXXX\n",
       "    product_version:            v01r03\n",
       "    platform:                   GOES (Geostationary Operational Environmental...\n",
       "    sensor:                     Imager, TOVS &gt; TIROS Operational Vertical Sou...\n",
       "    spatial_resolution:         1 degree\n",
       "    comment:                    Processing computer: eagle2.umd.edu</pre>"
      ],
      "text/plain": [
       "<xarray.Dataset>\n",
       "Dimensions:      (latitude: 180, longitude: 360, nv: 2, time: 2117)\n",
       "Coordinates:\n",
       "  * latitude     (latitude) float32 -90.0 -89.0 -88.0 -87.0 ... 87.0 88.0 89.0\n",
       "  * longitude    (longitude) float32 0.0 1.0 2.0 3.0 ... 356.0 357.0 358.0 359.0\n",
       "  * time         (time) datetime64[ns] 1997-06-01 1997-06-02 ... 2019-08-31\n",
       "Dimensions without coordinates: nv\n",
       "Data variables:\n",
       "    lat_bounds   (time, latitude, nv) float32 ...\n",
       "    lon_bounds   (time, longitude, nv) float32 ...\n",
       "    time_bounds  (time, nv) object ...\n",
       "    precip       (time, latitude, longitude) float32 0.17455836 ... 2.0801144\n",
       "Attributes:\n",
       "    Conventions:                CF-1.6, ACDD 1.3\n",
       "    title:                      Global Precipitation Climatatology Project (G...\n",
       "    source:                     /data1/GPCP_CDR/GPCP_Output/1DD//bin/199706/s...\n",
       "    references:                 Huffman et al. 1997, http://dx.doi.org/10.117...\n",
       "    history:                    1) 2017-05-30T16:53:23Z, Dr. Jian-Jian Wang, ...\n",
       "    Metadata_Conventions:       CF-1.6, Unidata Dataset Discovery v1.0, NOAA ...\n",
       "    standard_name_vocabulary:   CF Standard Name Table (v41, 22 February 2017)\n",
       "    id:                         199706/gpcp_v01r03_daily_d19970601_c20170530.nc\n",
       "    naming_authority:           gov.noaa.ncdc\n",
       "    date_created:               2017-05-30T16:53:23Z\n",
       "    license:                    No constraints on data access or use.\n",
       "    summary:                    Global Precipitation Climatology Project (GPC...\n",
       "    keywords:                   EARTH SCIENCE > ATMOSPHERE > PRECIPITATION > ...\n",
       "    keywords_vocabulary:        NASA Global Change Master Directory (GCMD) Ea...\n",
       "    cdm_data_type:              Grid\n",
       "    project:                    GPCP > Global Precipitation Climatology Project\n",
       "    processing_level:           NASA Level 3\n",
       "    creator_name:               Dr. Jian-Jian Wang\n",
       "    creator_email:              jjwang@umd.edu\n",
       "    institution:                ACADEMIC > UMD/ESSIC > Earth System Science I...\n",
       "    publisher_name:             NOAA National Centers for Environmental Infor...\n",
       "    publisher_email:            jjwang@umd.edu\n",
       "    publisher_url:              https://www.ncei.noaa.gov\n",
       "    geospatial_lat_min:         -90.0\n",
       "    geospatial_lat_max:         90.0\n",
       "    geospatial_lat_units:       degrees_north\n",
       "    geospatial_lat_resolution:  1 degree\n",
       "    geospatial_lon_min:         0.0\n",
       "    geospatial_lon_max:         360.0\n",
       "    geospatial_lon_units:       degrees_east\n",
       "    geospatial_lon_resolution:  1 degree\n",
       "    time_coverage_start:        1997-06-01T00:00:00Z\n",
       "    time_coverage_end:          1997-06-01T23:59:59Z\n",
       "    time_coverage_duration:     P1D\n",
       "    contributor_name:           Robert Adler, Jian-Jian Wang\n",
       "    contributor_role:           principalInvestigator, processor and custodian\n",
       "    acknowledgment:             This project was supported in part by a grant...\n",
       "    cdr_program:                NOAA Climate Data Record Program for satellit...\n",
       "    cdr_variable:               precipitation\n",
       "    metadata_link:              gov.noaa.ncdc:XXXXX\n",
       "    product_version:            v01r03\n",
       "    platform:                   GOES (Geostationary Operational Environmental...\n",
       "    sensor:                     Imager, TOVS > TIROS Operational Vertical Sou...\n",
       "    spatial_resolution:         1 degree\n",
       "    comment:                    Processing computer: eagle2.umd.edu"
      ]
     },
     "execution_count": 13,
     "metadata": {},
     "output_type": "execute_result"
    }
   ],
   "source": [
    "# We have every daily JJA precip measurement from 1997 to 2019\n",
    "precip"
   ]
  },
  {
   "cell_type": "markdown",
   "metadata": {},
   "source": [
    "## Mumbai"
   ]
  },
  {
   "cell_type": "code",
   "execution_count": 14,
   "metadata": {},
   "outputs": [],
   "source": [
    "# Mumbai, India (lon,lat) = (72.825833, 18.975), taken from Wikipedia/GeoHack\n",
    "mumbai = precip.sel(longitude=72.825833,latitude=18.975, method='nearest')"
   ]
  },
  {
   "cell_type": "code",
   "execution_count": 15,
   "metadata": {},
   "outputs": [
    {
     "name": "stdout",
     "output_type": "stream",
     "text": [
      "<xarray.DataArray 'precip' ()>\n",
      "array(9.96920997e+36)\n",
      "Coordinates:\n",
      "    latitude   float32 19.0\n",
      "    longitude  float32 73.0\n"
     ]
    }
   ],
   "source": [
    "# There seems to be one spurious very large data point... let's filter it out\n",
    "print(mumbai['precip'].max())\n",
    "mumbai = mumbai.where(mumbai['precip'] < mumbai['precip'].max())"
   ]
  },
  {
   "cell_type": "markdown",
   "metadata": {},
   "source": [
    "### Plot CDF of Mumbai precip"
   ]
  },
  {
   "cell_type": "code",
   "execution_count": 16,
   "metadata": {},
   "outputs": [
    {
     "data": {
      "image/png": "[encoded data removed]",
      "text/plain": [
       "<Figure size 720x720 with 1 Axes>"
      ]
     },
     "metadata": {},
     "output_type": "display_data"
    }
   ],
   "source": [
    "fig, ax = plt.subplots(1,1, figsize = (10,10))\n",
    "kwargs = {'cumulative': True}\n",
    "sns.distplot(mumbai['precip'], hist_kws=kwargs, kde_kws=kwargs, ax = ax)\n",
    "ax.set_xlim(left = 0)\n",
    "ax.set_xlabel('Precipitation [mm]')\n",
    "ax.set_ylabel('Probability')\n",
    "ax.set_title('Mumbia, India (1998 - 2019)')\n",
    "plt.show()"
   ]
  },
  {
   "cell_type": "markdown",
   "metadata": {},
   "source": [
    "### What is the 95th percentile value?"
   ]
  },
  {
   "cell_type": "code",
   "execution_count": 17,
   "metadata": {},
   "outputs": [
    {
     "data": {
      "text/plain": [
       "44.9888858795166"
      ]
     },
     "execution_count": 17,
     "metadata": {},
     "output_type": "execute_result"
    }
   ],
   "source": [
    "np.percentile(mumbai.dropna(dim = 'time')[\"precip\"], 95)"
   ]
  },
  {
   "cell_type": "markdown",
   "metadata": {},
   "source": [
    "### What dates have extreme precip (above 95th percentile)?"
   ]
  },
  {
   "cell_type": "code",
   "execution_count": 18,
   "metadata": {},
   "outputs": [
    {
     "data": {
      "text/html": [
       "<pre>&lt;xarray.DataArray &#x27;time&#x27; (time: 106)&gt;\n",
       "array([&#x27;1997-06-13T00:00:00.000000000&#x27;, &#x27;1997-07-06T00:00:00.000000000&#x27;,\n",
       "       &#x27;1997-07-25T00:00:00.000000000&#x27;, &#x27;1997-07-26T00:00:00.000000000&#x27;,\n",
       "       &#x27;1997-08-01T00:00:00.000000000&#x27;, &#x27;1997-08-22T00:00:00.000000000&#x27;,\n",
       "       &#x27;1997-08-23T00:00:00.000000000&#x27;, &#x27;1997-08-24T00:00:00.000000000&#x27;,\n",
       "       &#x27;1997-08-25T00:00:00.000000000&#x27;, &#x27;1998-06-15T00:00:00.000000000&#x27;,\n",
       "       &#x27;1998-07-07T00:00:00.000000000&#x27;, &#x27;1998-07-28T00:00:00.000000000&#x27;,\n",
       "       &#x27;1998-07-29T00:00:00.000000000&#x27;, &#x27;1998-08-24T00:00:00.000000000&#x27;,\n",
       "       &#x27;1999-06-11T00:00:00.000000000&#x27;, &#x27;1999-06-22T00:00:00.000000000&#x27;,\n",
       "       &#x27;1999-07-07T00:00:00.000000000&#x27;, &#x27;1999-07-15T00:00:00.000000000&#x27;,\n",
       "       &#x27;1999-07-19T00:00:00.000000000&#x27;, &#x27;1999-08-09T00:00:00.000000000&#x27;,\n",
       "       &#x27;2000-07-13T00:00:00.000000000&#x27;, &#x27;2000-08-24T00:00:00.000000000&#x27;,\n",
       "       &#x27;2002-06-25T00:00:00.000000000&#x27;, &#x27;2002-06-26T00:00:00.000000000&#x27;,\n",
       "       &#x27;2002-08-03T00:00:00.000000000&#x27;, &#x27;2002-08-24T00:00:00.000000000&#x27;,\n",
       "       &#x27;2003-07-27T00:00:00.000000000&#x27;, &#x27;2003-07-28T00:00:00.000000000&#x27;,\n",
       "       &#x27;2003-08-23T00:00:00.000000000&#x27;, &#x27;2003-08-24T00:00:00.000000000&#x27;,\n",
       "       &#x27;2004-06-15T00:00:00.000000000&#x27;, &#x27;2004-07-16T00:00:00.000000000&#x27;,\n",
       "       &#x27;2004-07-30T00:00:00.000000000&#x27;, &#x27;2004-08-02T00:00:00.000000000&#x27;,\n",
       "       &#x27;2004-08-05T00:00:00.000000000&#x27;, &#x27;2004-08-11T00:00:00.000000000&#x27;,\n",
       "       &#x27;2005-06-28T00:00:00.000000000&#x27;, &#x27;2005-06-29T00:00:00.000000000&#x27;,\n",
       "       &#x27;2005-07-19T00:00:00.000000000&#x27;, &#x27;2005-08-01T00:00:00.000000000&#x27;,\n",
       "       &#x27;2006-06-22T00:00:00.000000000&#x27;, &#x27;2006-06-23T00:00:00.000000000&#x27;,\n",
       "       &#x27;2006-07-03T00:00:00.000000000&#x27;, &#x27;2006-07-04T00:00:00.000000000&#x27;,\n",
       "       &#x27;2006-07-05T00:00:00.000000000&#x27;, &#x27;2006-07-29T00:00:00.000000000&#x27;,\n",
       "       &#x27;2006-07-31T00:00:00.000000000&#x27;, &#x27;2006-08-05T00:00:00.000000000&#x27;,\n",
       "       &#x27;2006-08-06T00:00:00.000000000&#x27;, &#x27;2006-08-07T00:00:00.000000000&#x27;,\n",
       "       &#x27;2006-08-08T00:00:00.000000000&#x27;, &#x27;2006-08-09T00:00:00.000000000&#x27;,\n",
       "       &#x27;2007-06-22T00:00:00.000000000&#x27;, &#x27;2007-07-01T00:00:00.000000000&#x27;,\n",
       "       &#x27;2007-07-02T00:00:00.000000000&#x27;, &#x27;2007-07-08T00:00:00.000000000&#x27;,\n",
       "       &#x27;2007-07-26T00:00:00.000000000&#x27;, &#x27;2007-08-08T00:00:00.000000000&#x27;,\n",
       "       &#x27;2007-08-26T00:00:00.000000000&#x27;, &#x27;2007-08-27T00:00:00.000000000&#x27;,\n",
       "       &#x27;2007-08-28T00:00:00.000000000&#x27;, &#x27;2008-08-05T00:00:00.000000000&#x27;,\n",
       "       &#x27;2009-07-21T00:00:00.000000000&#x27;, &#x27;2009-07-22T00:00:00.000000000&#x27;,\n",
       "       &#x27;2009-08-19T00:00:00.000000000&#x27;, &#x27;2010-07-02T00:00:00.000000000&#x27;,\n",
       "       &#x27;2010-07-24T00:00:00.000000000&#x27;, &#x27;2011-07-06T00:00:00.000000000&#x27;,\n",
       "       &#x27;2011-08-28T00:00:00.000000000&#x27;, &#x27;2012-08-30T00:00:00.000000000&#x27;,\n",
       "       &#x27;2013-06-16T00:00:00.000000000&#x27;, &#x27;2013-07-19T00:00:00.000000000&#x27;,\n",
       "       &#x27;2013-08-01T00:00:00.000000000&#x27;, &#x27;2013-08-23T00:00:00.000000000&#x27;,\n",
       "       &#x27;2014-07-22T00:00:00.000000000&#x27;, &#x27;2014-07-23T00:00:00.000000000&#x27;,\n",
       "       &#x27;2014-07-29T00:00:00.000000000&#x27;, &#x27;2014-07-30T00:00:00.000000000&#x27;,\n",
       "       &#x27;2014-08-21T00:00:00.000000000&#x27;, &#x27;2014-08-23T00:00:00.000000000&#x27;,\n",
       "       &#x27;2014-08-25T00:00:00.000000000&#x27;, &#x27;2015-07-25T00:00:00.000000000&#x27;,\n",
       "       &#x27;2015-07-27T00:00:00.000000000&#x27;, &#x27;2015-08-04T00:00:00.000000000&#x27;,\n",
       "       &#x27;2015-08-05T00:00:00.000000000&#x27;, &#x27;2016-07-03T00:00:00.000000000&#x27;,\n",
       "       &#x27;2016-07-09T00:00:00.000000000&#x27;, &#x27;2016-07-10T00:00:00.000000000&#x27;,\n",
       "       &#x27;2016-07-11T00:00:00.000000000&#x27;, &#x27;2016-08-01T00:00:00.000000000&#x27;,\n",
       "       &#x27;2016-08-02T00:00:00.000000000&#x27;, &#x27;2016-08-06T00:00:00.000000000&#x27;,\n",
       "       &#x27;2017-06-03T00:00:00.000000000&#x27;, &#x27;2017-07-20T00:00:00.000000000&#x27;,\n",
       "       &#x27;2017-07-28T00:00:00.000000000&#x27;, &#x27;2017-08-20T00:00:00.000000000&#x27;,\n",
       "       &#x27;2018-07-09T00:00:00.000000000&#x27;, &#x27;2018-08-16T00:00:00.000000000&#x27;,\n",
       "       &#x27;2018-08-21T00:00:00.000000000&#x27;, &#x27;2019-07-20T00:00:00.000000000&#x27;,\n",
       "       &#x27;2019-07-28T00:00:00.000000000&#x27;, &#x27;2019-07-29T00:00:00.000000000&#x27;,\n",
       "       &#x27;2019-07-31T00:00:00.000000000&#x27;, &#x27;2019-08-08T00:00:00.000000000&#x27;,\n",
       "       &#x27;2019-08-09T00:00:00.000000000&#x27;, &#x27;2019-08-30T00:00:00.000000000&#x27;],\n",
       "      dtype=&#x27;datetime64[ns]&#x27;)\n",
       "Coordinates:\n",
       "    latitude   float32 19.0\n",
       "    longitude  float32 73.0\n",
       "  * time       (time) datetime64[ns] 1997-06-13 1997-07-06 ... 2019-08-30\n",
       "Attributes:\n",
       "    long_name:      time\n",
       "    standard_name:  time\n",
       "    axis:           T\n",
       "    bounds:         time_bounds</pre>"
      ],
      "text/plain": [
       "<xarray.DataArray 'time' (time: 106)>\n",
       "array(['1997-06-13T00:00:00.000000000', '1997-07-06T00:00:00.000000000',\n",
       "       '1997-07-25T00:00:00.000000000', '1997-07-26T00:00:00.000000000',\n",
       "       '1997-08-01T00:00:00.000000000', '1997-08-22T00:00:00.000000000',\n",
       "       '1997-08-23T00:00:00.000000000', '1997-08-24T00:00:00.000000000',\n",
       "       '1997-08-25T00:00:00.000000000', '1998-06-15T00:00:00.000000000',\n",
       "       '1998-07-07T00:00:00.000000000', '1998-07-28T00:00:00.000000000',\n",
       "       '1998-07-29T00:00:00.000000000', '1998-08-24T00:00:00.000000000',\n",
       "       '1999-06-11T00:00:00.000000000', '1999-06-22T00:00:00.000000000',\n",
       "       '1999-07-07T00:00:00.000000000', '1999-07-15T00:00:00.000000000',\n",
       "       '1999-07-19T00:00:00.000000000', '1999-08-09T00:00:00.000000000',\n",
       "       '2000-07-13T00:00:00.000000000', '2000-08-24T00:00:00.000000000',\n",
       "       '2002-06-25T00:00:00.000000000', '2002-06-26T00:00:00.000000000',\n",
       "       '2002-08-03T00:00:00.000000000', '2002-08-24T00:00:00.000000000',\n",
       "       '2003-07-27T00:00:00.000000000', '2003-07-28T00:00:00.000000000',\n",
       "       '2003-08-23T00:00:00.000000000', '2003-08-24T00:00:00.000000000',\n",
       "       '2004-06-15T00:00:00.000000000', '2004-07-16T00:00:00.000000000',\n",
       "       '2004-07-30T00:00:00.000000000', '2004-08-02T00:00:00.000000000',\n",
       "       '2004-08-05T00:00:00.000000000', '2004-08-11T00:00:00.000000000',\n",
       "       '2005-06-28T00:00:00.000000000', '2005-06-29T00:00:00.000000000',\n",
       "       '2005-07-19T00:00:00.000000000', '2005-08-01T00:00:00.000000000',\n",
       "       '2006-06-22T00:00:00.000000000', '2006-06-23T00:00:00.000000000',\n",
       "       '2006-07-03T00:00:00.000000000', '2006-07-04T00:00:00.000000000',\n",
       "       '2006-07-05T00:00:00.000000000', '2006-07-29T00:00:00.000000000',\n",
       "       '2006-07-31T00:00:00.000000000', '2006-08-05T00:00:00.000000000',\n",
       "       '2006-08-06T00:00:00.000000000', '2006-08-07T00:00:00.000000000',\n",
       "       '2006-08-08T00:00:00.000000000', '2006-08-09T00:00:00.000000000',\n",
       "       '2007-06-22T00:00:00.000000000', '2007-07-01T00:00:00.000000000',\n",
       "       '2007-07-02T00:00:00.000000000', '2007-07-08T00:00:00.000000000',\n",
       "       '2007-07-26T00:00:00.000000000', '2007-08-08T00:00:00.000000000',\n",
       "       '2007-08-26T00:00:00.000000000', '2007-08-27T00:00:00.000000000',\n",
       "       '2007-08-28T00:00:00.000000000', '2008-08-05T00:00:00.000000000',\n",
       "       '2009-07-21T00:00:00.000000000', '2009-07-22T00:00:00.000000000',\n",
       "       '2009-08-19T00:00:00.000000000', '2010-07-02T00:00:00.000000000',\n",
       "       '2010-07-24T00:00:00.000000000', '2011-07-06T00:00:00.000000000',\n",
       "       '2011-08-28T00:00:00.000000000', '2012-08-30T00:00:00.000000000',\n",
       "       '2013-06-16T00:00:00.000000000', '2013-07-19T00:00:00.000000000',\n",
       "       '2013-08-01T00:00:00.000000000', '2013-08-23T00:00:00.000000000',\n",
       "       '2014-07-22T00:00:00.000000000', '2014-07-23T00:00:00.000000000',\n",
       "       '2014-07-29T00:00:00.000000000', '2014-07-30T00:00:00.000000000',\n",
       "       '2014-08-21T00:00:00.000000000', '2014-08-23T00:00:00.000000000',\n",
       "       '2014-08-25T00:00:00.000000000', '2015-07-25T00:00:00.000000000',\n",
       "       '2015-07-27T00:00:00.000000000', '2015-08-04T00:00:00.000000000',\n",
       "       '2015-08-05T00:00:00.000000000', '2016-07-03T00:00:00.000000000',\n",
       "       '2016-07-09T00:00:00.000000000', '2016-07-10T00:00:00.000000000',\n",
       "       '2016-07-11T00:00:00.000000000', '2016-08-01T00:00:00.000000000',\n",
       "       '2016-08-02T00:00:00.000000000', '2016-08-06T00:00:00.000000000',\n",
       "       '2017-06-03T00:00:00.000000000', '2017-07-20T00:00:00.000000000',\n",
       "       '2017-07-28T00:00:00.000000000', '2017-08-20T00:00:00.000000000',\n",
       "       '2018-07-09T00:00:00.000000000', '2018-08-16T00:00:00.000000000',\n",
       "       '2018-08-21T00:00:00.000000000', '2019-07-20T00:00:00.000000000',\n",
       "       '2019-07-28T00:00:00.000000000', '2019-07-29T00:00:00.000000000',\n",
       "       '2019-07-31T00:00:00.000000000', '2019-08-08T00:00:00.000000000',\n",
       "       '2019-08-09T00:00:00.000000000', '2019-08-30T00:00:00.000000000'],\n",
       "      dtype='datetime64[ns]')\n",
       "Coordinates:\n",
       "    latitude   float32 19.0\n",
       "    longitude  float32 73.0\n",
       "  * time       (time) datetime64[ns] 1997-06-13 1997-07-06 ... 2019-08-30\n",
       "Attributes:\n",
       "    long_name:      time\n",
       "    standard_name:  time\n",
       "    axis:           T\n",
       "    bounds:         time_bounds"
      ]
     },
     "execution_count": 18,
     "metadata": {},
     "output_type": "execute_result"
    }
   ],
   "source": [
    "mumbai.where(mumbai.precip > np.percentile(mumbai.dropna(dim = 'time')[\"precip\"], 95)).dropna(dim = 'time').time"
   ]
  },
  {
   "cell_type": "code",
   "execution_count": null,
   "metadata": {},
   "outputs": [],
   "source": []
  }
 ],
 "metadata": {
  "kernelspec": {
   "display_name": "Python 3",
   "language": "python",
   "name": "python3"
  },
  "language_info": {
   "codemirror_mode": {
    "name": "ipython",
    "version": 3
   },
   "file_extension": ".py",
   "mimetype": "text/x-python",
   "name": "python",
   "nbconvert_exporter": "python",
   "pygments_lexer": "ipython3",
   "version": "3.7.6"
  }
 },
 "nbformat": 4,
 "nbformat_minor": 4
}
